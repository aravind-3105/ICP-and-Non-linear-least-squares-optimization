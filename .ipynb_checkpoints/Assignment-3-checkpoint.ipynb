{
 "cells": [
  {
   "cell_type": "markdown",
   "id": "2fc48fb6",
   "metadata": {},
   "source": [
    "# Assignment 3: ICP + Non-linear least squares optimization\n",
    "\n",
    "TEAM-NAME: FAMILY\n",
    "\n",
    "YOUR-ID: 2019102014 2019102017\n",
    "\n",
    "YOUR-NAME: Aravind-Narayanan Abhayram-A-Nair\n",
    "\n",
    "## Instructions\n",
    "\n",
    "* You are not allowed to use any external libraries (other than ones being imported below).\n",
    "* The deadline for this assignment is **15-09-21** at 11:55pm.\n",
    "* Plagiarism is **strictly prohibited**"
   ]
  },
  {
   "cell_type": "code",
   "execution_count": 1,
   "id": "a6c2af1b",
   "metadata": {},
   "outputs": [],
   "source": [
    "import math\n",
    "import numpy as np\n",
    "import matplotlib.pyplot as plt\n",
    "%matplotlib inline"
   ]
  },
  {
   "cell_type": "markdown",
   "id": "cbf40b4b",
   "metadata": {},
   "source": [
    "# Non Linear Least Squares Optimization"
   ]
  },
  {
   "cell_type": "markdown",
   "id": "f15b1517",
   "metadata": {},
   "source": [
    "## 1.1 Gradient Descent\n",
    "Implement the gradient descent algorithm using numpy and what you have learned from class to solve for the parameters of a gaussian distribution.\n",
    "To understand the task in more detail and look at a worked through example, checkout the subsequent section. You have to implement the same using just numpy functions. You can refer to [Shubodh's notes](https://www.notion.so/saishubodh/From-linear-algebra-to-non-linear-weighted-least-squares-optimization-13cf17d318be4d45bb8577c4d3ea4a02) on the same to get a better grasp of the concept before implementing it.\n",
    "* Experiment with the number of iterations.\n",
    "* Experiment with the learning rate.\n",
    "* Experiment with the tolerance.\n",
    "\n",
    "Display your results using matplotlib by plotting graphs for \n",
    "* The cost function value vs the number of iterations\n",
    "* The Ground Truth data values and the predicted data values.\n",
    "\n",
    "Your plots are expected to contain information similar to the plot below:\n",
    "\n",
    "<!-- <figure> -->\n",
    "<img src='./helpers/sample_plt.png' alt=drawing width=500 height=600>\n",
    "\n",
    "<!-- <figcaption align='center'><b>A sample plot, you can use your own plotting template</b></figcaption>\n",
    "</figure> -->\n",
    "<!-- head over to [this page](https://saishubodh.notion.site/Non-Linear-Least-Squares-Solved-example-Computing-Jacobian-for-a-Gaussian-Gradient-Descent-7fd11ebfee034f8ca89cc78c8f1d24d9) -->"
   ]
  },
  {
   "cell_type": "markdown",
   "id": "c5200c23",
   "metadata": {},
   "source": [
    "## Worked out Example using Gradient Descent\n",
    "\n",
    "A Gaussian distribution parametrized by $a,m,s$ is given by:\n",
    "\n",
    "$$ y(x;a,m,s)=a \\exp \\left(\\frac{-(x-m)^{2}}{2 s^{2}}\\right) \\tag{1}$$\n",
    "\n",
    "### Jacobian of Gaussian\n",
    "\n",
    "$$\\mathbf{J}_y=\\left[\\frac{\\partial y}{\\partial a} \\quad \\frac{\\partial y}{\\partial m} \\quad \\frac{\\partial y}{\\partial s}\\right] \\\\\n",
    "= \\left[ \\exp \\left(\\frac{-(x-m)^{2}}{2 s^{2}}\\right); \\frac{a (x-m)}{s^2} \\exp\\left(\\frac{-(x-m)^{2}}{2 s^{2}}\\right);  \\frac{a (x-m)^2}{s^3}\\exp \\left(\\frac{-(x-m)^{2}}{2 s^{2}}\\right)\\right]$$\n",
    "\n",
    "## Problem at hand\n",
    "\n",
    "> Given a set of observations $y_{obs}$ and $x_{obs}$ we want to find the optimum parameters $a,m,s$ which best fit our observations given an initial estimate.\n",
    "\n",
    "Our observations would generally be erroneous and given to us, but for the sake of knowing how good our model is performing, let us generate the observations ourselves by assuming the actual \"actual\" parameter values as $a_{gt}=10; m_{gt} =0; s_{gt} =20$ ($gt$ stands for ground truth). We will try to estimate these values based on our observations and let us see how close we get to \"actual\" parameters. Note that in reality we obviously don't have these parameters as that is exactly what we want to estimate in the first place. So let us consider the following setup, we have:\n",
    "\n",
    "- Number of observations, $num\\_obs = 50$\n",
    "- Our 50 set of observations would be\n",
    "    - $x_{obs} = np.linspace(-25,25, num\\_obs)$\n",
    "    - $y_{obs} = y(x_{obs};a_{gt},m_{gt},s_{gt})$  from $(1)$\n",
    "\n",
    "Reference:\n",
    "\n",
    "→[linspace](https://numpy.org/doc/stable/reference/generated/numpy.linspace.html)\n",
    "\n",
    "- Say we are given initial estimate as:\n",
    "\n",
    "    $$a_0=10; \\quad m_0=13; \\quad s_0=19.12$$\n",
    "\n",
    "### Residual and error to be minimized\n",
    "\n",
    "Okay, now we have set of observations and an initial estimate of parameters. We would now want to minimize an error that would give us optimum parameters.\n",
    "\n",
    "The $residual$ would be given by\n",
    "\n",
    "$$ r(a,m,s) = \\left[ a \\exp \\left(\\frac{-(x_{obs}-m)^{2}}{2 s^{2}}\\right) - y_{obs}\\ \\right]$$\n",
    "\n",
    "where we'd want to minimize $\\|r\\|^2$. Note that $r$ is a non-linear function in $(a,m,s)$.\n",
    "\n",
    "Also, note that since $y$ (and $x$) are observations in the above equation, after simplification, we get $\\mathbf{J}_r = \\mathbf{J}_y$ [above](https://www.notion.so/c9e6f71b67a44bb8b366df2fccfc12d0) (since $y_{obs}$ is a constant).\n",
    "\n",
    "Let us apply Gradient Descent method for minimization here. From [Table I](https://www.notion.so/From-linear-algebra-to-non-linear-weighted-least-squares-optimization-13cf17d318be4d45bb8577c4d3ea4a02),  \n",
    "\n",
    "$$\\Delta \\mathbf{k} = - \\alpha \\mathbf{J_F} = -\\alpha \\mathbf{J}_r^{\\top} {r}(\\mathbf{k})$$\n",
    "\n",
    "Note that $\\mathbf{J_F}$ is the Jacobian of \"non-linear least squares\" function $\\mathbf{F}$ while $\\mathbf{J}_r$ is the Jacobian of the residual. \n",
    "\n",
    "where $\\mathbf{k}$ is $[a,m,s]^T$. \n",
    "\n",
    "- Some hyperparameters:\n",
    "    - Learning rate, $lr = 0.01$\n",
    "    - Maximum number of iterations, $num\\_iter=200$\n",
    "    - Tolerance, $tol = 1e-15$\n",
    "\n",
    "## Solution for 1 iteration\n",
    "\n",
    "To see how each step looks like, let us solve for 1 iteration and for simpler calculations, assume we have 3 observations, \n",
    "\n",
    "$$x_{obs}= \\left[ -25, 0, 25 \\right]^T, y_{obs} = \\left[  4.5783, 10, 4.5783 \\right]^T. $$\n",
    "\n",
    "With our initial estimate as $\\mathbf{k_0} = [a_0=10, \\quad m_0=13, \\quad s_0=19.12]^T$, the residual would be \n",
    "\n",
    "$$ r(a_0,m_0,s_0) = \\left[ a_0 \\exp \\left(\\frac{-(x_{obs}-m_0)^{2}}{2 s_0^{2}}\\right) - y_{obs}\\ \\right]$$\n",
    "\n",
    "Therefore, $r=[-3.19068466, -2.0637411 , 3.63398058]^T$.\n",
    "\n",
    "### Gradient Computation\n",
    "\n",
    "Gradient, $\\mathbf{J_F}$=\n",
    "\n",
    "$$\\mathbf{J_r}^{\\top} \\mathbf{r}(\\mathbf{k})$$\n",
    "\n",
    "We have calculated residual already [above](https://www.notion.so/c9e6f71b67a44bb8b366df2fccfc12d0), let us calculate the Jacobian $\\mathbf{J_r}$.\n",
    "\n",
    "$$\\mathbf{J}_r\n",
    "= \\left[ \\exp \\left(\\frac{-(x-m)^{2}}{2 s^{2}}\\right); \\frac{a (x-m)}{s^2} \\exp\\left(\\frac{-(x-m)^{2}}{2 s^{2}}\\right);  \\frac{a (x-m)^2}{s^3}\\exp \\left(\\frac{-(x-m)^{2}}{2 s^{2}}\\right)\\right]$$\n",
    "\n",
    "$$\\implies \\mathbf{J_r} = \\left[ \\begin{array}{rrr}0.1387649 & 0.79362589, & 0.82123142 \\\\-0.14424057 & -0.28221715  & 0.26956967 \\\\0.28667059 & 0.19188405, & 0.16918599\\end{array}\\right]$$\n",
    "\n",
    "So ,\n",
    "\n",
    "$$\\mathbf{J_F} = \\mathbf{J_r}^{\\top} \\mathbf{r}(\\mathbf{k})$$\n",
    "\n",
    "$$\\mathbf{r}(\\mathbf{k}) =  \\left[ \\begin{array}{r}-3.19068466 \\\\ -2.0637411 \\\\ 3.63398058 \\end{array} \\right]$$\n",
    "\n",
    "$$ \\begin{aligned} \\implies \\mathbf{J_F} = \\left[ \\begin{array}{r} 0.89667553 \\\\ -1.25248392 \\\\-2.56179392\\end{array} \\right] \\end{aligned}$$\n",
    "\n",
    "### Update step\n",
    "\n",
    "$$\n",
    "\\Delta \\mathbf{k} = - \\alpha \\mathbf{J_F} \\\\\n",
    "\\mathbf{k}^{t+1} = \\mathbf{k}^t + \\Delta \\mathbf{k}\n",
    "$$\n",
    "\n",
    "Here, $\\alpha$ our learning rate is 0.01.\n",
    "\n",
    "$$\n",
    "\\Delta \\mathbf{k} = - \\alpha\\times\\left[ \\begin{array}{r} \n",
    "0.89667553 \\\\ -1.25248392 \\\\-2.56179392\n",
    "\\end{array} \\right] = \\left[ \\begin{array}{r}\n",
    "-0.00896676 \\\\ 0.01252484 \\\\0.02561794\n",
    "\\end{array}\\right]\n",
    "$$\n",
    "\n",
    "$$\n",
    "\\mathbf{k}^{1} = \\mathbf{k}^{0} + \\Delta \\mathbf{k} \\\\ \\left[\\begin{array}{r} 10 \\\\ 13 \\\\ 19.12 \\end{array}\\right] + \\left[\\begin{array}{c} 9.99103324 \\\\ 13.01252484 \\\\ 19.14561794 \\end{array} \\right]\n",
    "$$\n",
    "\n",
    "With just one iteration with very few observations, we can see that we have gotten *slightly* more closer to our GT parameter  $a_{gt}=10; m_{gt} =0; s_{gt} =20$. Our initial estimate was $[a_0=10, \\quad m_0=13, \\quad s_0=19.12]$. However, the above might not be noticeable enough: Hence you need to code it for more iterations and convince yourself as follows:"
   ]
  },
  {
   "cell_type": "code",
   "execution_count": 2,
   "id": "32905b8a",
   "metadata": {},
   "outputs": [],
   "source": [
    "from helpers.func import make_gaussian"
   ]
  },
  {
   "cell_type": "code",
   "execution_count": 3,
   "id": "07cb21e4-1df0-47ba-aec8-d448f58b82aa",
   "metadata": {},
   "outputs": [],
   "source": [
    "# Jr = [[Ja1, Ja2, Ja3],\n",
    "#      [Jm1, Jm2, Jm3],\n",
    "#      [Js1, Js2, Js3]]\n",
    "# print(Jr)\n",
    "# print(rK)"
   ]
  },
  {
   "cell_type": "code",
   "execution_count": 4,
   "id": "9b7e07ae-639d-4a2a-94f4-5235705734d4",
   "metadata": {},
   "outputs": [],
   "source": [
    "# #Define jacobians\n",
    "# Ja = (1/(np.sqrt(2 * np.pi) * s)) * np.exp(-(x-m)**2/(2*s**2))\n",
    "# Jm = ((a*(x-m))/(np.sqrt(2 * np.pi) * s**2)) * np.exp(-(x-m)**2/(2*s**2))\n",
    "# Js = (a/(np.sqrt(2 * np.pi) * s**2))*(((x-(m**2))/(s**2))-1) * np.exp(-(x-m)**2/(2*s**2))"
   ]
  },
  {
   "cell_type": "code",
   "execution_count": 5,
   "id": "b845e9ec-f184-4150-a9e1-0448fb7d1d3e",
   "metadata": {},
   "outputs": [
    {
     "name": "stdout",
     "output_type": "stream",
     "text": [
      "[-25.         -23.97959184 -22.95918367 -21.93877551 -20.91836735\n",
      " -19.89795918 -18.87755102 -17.85714286 -16.83673469 -15.81632653\n",
      " -14.79591837 -13.7755102  -12.75510204 -11.73469388 -10.71428571\n",
      "  -9.69387755  -8.67346939  -7.65306122  -6.63265306  -5.6122449\n",
      "  -4.59183673  -3.57142857  -2.55102041  -1.53061224  -0.51020408\n",
      "   0.51020408   1.53061224   2.55102041   3.57142857   4.59183673\n",
      "   5.6122449    6.63265306   7.65306122   8.67346939   9.69387755\n",
      "  10.71428571  11.73469388  12.75510204  13.7755102   14.79591837\n",
      "  15.81632653  16.83673469  17.85714286  18.87755102  19.89795918\n",
      "  20.91836735  21.93877551  22.95918367  23.97959184  25.        ]\n",
      "[0.09132454 0.09721194 0.10320986 0.10929299 0.11543377 0.12160263\n",
      " 0.12776813 0.13389724 0.13995557 0.14590772 0.15171755 0.1573486\n",
      " 0.1627644  0.16792891 0.17280688 0.17736424 0.18156854 0.18538929\n",
      " 0.18879834 0.19177023 0.19428251 0.19631602 0.1978551  0.19888785\n",
      " 0.19940625 0.19940625 0.19888785 0.1978551  0.19631602 0.19428251\n",
      " 0.19177023 0.18879834 0.18538929 0.18156854 0.17736424 0.17280688\n",
      " 0.16792891 0.1627644  0.1573486  0.15171755 0.14590772 0.13995557\n",
      " 0.13389724 0.12776813 0.12160263 0.11543377 0.10929299 0.10320986\n",
      " 0.09721194 0.09132454]\n"
     ]
    },
    {
     "data": {
      "text/plain": [
       "[<matplotlib.lines.Line2D at 0x7f454d26e860>]"
      ]
     },
     "execution_count": 5,
     "metadata": {},
     "output_type": "execute_result"
    },
    {
     "data": {
      "image/png": "[encoded data removed]",
      "text/plain": [
       "<Figure size 432x288 with 1 Axes>"
      ]
     },
     "metadata": {
      "needs_background": "light"
     },
     "output_type": "display_data"
    }
   ],
   "source": [
    "iter = 50\n",
    "a0 = 10\n",
    "m0 = 0\n",
    "s0 = 20\n",
    "k = [[a0],\n",
    "     [m0],\n",
    "     [s0]]\n",
    "xobs = np.linspace(-25,25,iter)\n",
    "yobs = np.zeros_like(xobs)\n",
    "for i in range(iter):\n",
    "    yobs[i] = make_gaussian(xobs[i],a0,m0,s0)\n",
    "print(xobs)\n",
    "print(yobs)\n",
    "plt.plot(xobs,yobs)"
   ]
  },
  {
   "cell_type": "code",
   "execution_count": 6,
   "id": "4883e76c-93e5-444d-91c8-07561363f004",
   "metadata": {},
   "outputs": [],
   "source": [
    "def residual(a,m,s,x,y):\n",
    "#     res = a * np.exp(-(x-m)**2/(2*s**2)) - y\n",
    "    res = make_gaussian(x,a,m,s) - y \n",
    "#     return make_gaussian(x,a,m,s) - y \n",
    "    return res.astype('float64')"
   ]
  },
  {
   "cell_type": "code",
   "execution_count": 7,
   "id": "c2745f2b-a717-4ece-86a7-353270bb4ae0",
   "metadata": {},
   "outputs": [],
   "source": [
    "#Define jacobians\n",
    "rK = np.zeros(iter).astype('float64')\n",
    "Jr = np.zeros((3,iter),dtype='float64')\n",
    "error = np.zeros(2000).astype('float64')\n",
    "a0 = 10\n",
    "m0 = 13\n",
    "s0 = 19.12\n",
    "k = [[a0],\n",
    "    [m0],\n",
    "    [s0]]\n",
    "for j in range(2000):\n",
    "    a = k[0][0]\n",
    "    m = k[1][0]\n",
    "    s = k[2][0]\n",
    "    rK = np.zeros(iter).astype('float64')\n",
    "    Jr = np.zeros((3,iter),dtype='float64')\n",
    "#     print(m)\n",
    "    for i in range(iter):\n",
    "#         print(xobs[i])\n",
    "#         Jr[0][i] = np.exp(-(xobs[i]-m)**2/(2*s**2))\n",
    "#         Jr[1][i] = ((a*(xobs[i]-m))/(s**2)) * np.exp(-(xobs[i]-m)**2/(2*(s**2)))\n",
    "#         Jr[2][i] = ((a*((xobs[i]-m)**2))/(s**3)) * np.exp(-(xobs[i]-m)**2/(2*(s**2)))\n",
    "        Jr[0][i] = (1/(np.sqrt(2 * np.pi) * s)) * np.exp(-(xobs[i]-m)**2/(2*s**2))\n",
    "        Jr[1][i] = ((a*(xobs[i]-m))/(np.sqrt(2 * np.pi) * s**2)) * np.exp(-(xobs[i]-m)**2/(2*s**2))\n",
    "        Jr[2][i] = (a/(np.sqrt(2 * np.pi) * s**2))*(((xobs[i]-(m**2))/(s**2))-1) * np.exp(-(xobs[i]-m)**2/(2*s**2))\n",
    "        rK[i] = residual(a,m,s,xobs[i],yobs[i])\n",
    "#     Jr = Jr.T\n",
    "    error[j] = np.linalg.norm(rK)\n",
    "    rK = np.array(rK)[np.newaxis]\n",
    "    rK = rK.T\n",
    "#     print(Jr)\n",
    "#     print(rK)\n",
    "#     print(rK.shape)\n",
    "#     print(Jr.shape)\n",
    "    Jf = np.matmul(Jr,rK)\n",
    "#     print(Jf)\n",
    "    alpha = 0.05\n",
    "    deltaK = -alpha*Jf\n",
    "#     print(deltaK)\n",
    "#     print(deltaK)\n",
    "    k = k + deltaK\n",
    "#     print(k)\n",
    "#     print(newK)"
   ]
  },
  {
   "cell_type": "code",
   "execution_count": 8,
   "id": "f7b72406-2032-437d-8ab4-51d7f07a8aac",
   "metadata": {},
   "outputs": [],
   "source": [
    "# print(rK)\n",
    "# print(Jr)"
   ]
  },
  {
   "cell_type": "code",
   "execution_count": 9,
   "id": "9107d5bb-5b7f-4e71-ab2f-01724f83b383",
   "metadata": {},
   "outputs": [
    {
     "name": "stdout",
     "output_type": "stream",
     "text": [
      "[[ 9.79174376]\n",
      " [ 1.38743943]\n",
      " [19.21269373]]\n"
     ]
    }
   ],
   "source": [
    "print(k)"
   ]
  },
  {
   "cell_type": "code",
   "execution_count": 10,
   "id": "aa229e7f-4a7f-4be2-a351-f6b70c60ed01",
   "metadata": {},
   "outputs": [
    {
     "data": {
      "text/plain": [
       "[<matplotlib.lines.Line2D at 0x7f454b168e10>]"
      ]
     },
     "execution_count": 10,
     "metadata": {},
     "output_type": "execute_result"
    },
    {
     "data": {
      "image/png": "[encoded data removed]",
      "text/plain": [
       "<Figure size 432x288 with 1 Axes>"
      ]
     },
     "metadata": {
      "needs_background": "light"
     },
     "output_type": "display_data"
    }
   ],
   "source": [
    "plotX = list(range(2000))\n",
    "plotX = np.array(plotX)\n",
    "# print(plotX)\n",
    "plt.plot(plotX,error)"
   ]
  },
  {
   "cell_type": "code",
   "execution_count": 11,
   "id": "2b7be0a2-e12d-4134-b57b-bedf30c4edd8",
   "metadata": {},
   "outputs": [
    {
     "data": {
      "text/plain": [
       "<matplotlib.legend.Legend at 0x7f454b0ebe80>"
      ]
     },
     "execution_count": 11,
     "metadata": {},
     "output_type": "execute_result"
    },
    {
     "data": {
      "image/png": "[encoded data removed]",
      "text/plain": [
       "<Figure size 432x288 with 1 Axes>"
      ]
     },
     "metadata": {
      "needs_background": "light"
     },
     "output_type": "display_data"
    }
   ],
   "source": [
    "xP = np.linspace(-25,25,iter)\n",
    "yP = np.zeros_like(xobs)\n",
    "yF = np.zeros_like(xobs)\n",
    "a0 = 10\n",
    "m0 = 13\n",
    "s0 = 19.12\n",
    "for i in range(iter):\n",
    "    yP[i] = make_gaussian(xP[i],k[0][0],k[1][0],k[2][0])\n",
    "    yF[i] = make_gaussian(xP[i],a0,m0,s0)\n",
    "# print(xP)\n",
    "# print(yP)\n",
    "plt.plot(xP,yP)\n",
    "plt.plot(xP,yF)\n",
    "plt.plot(xobs,yobs)\n",
    "plt.legend(['Predicted','Initial','Actual'])"
   ]
  },
  {
   "cell_type": "markdown",
   "id": "e14c9556",
   "metadata": {},
   "source": [
    "## 1.2: Another Non-Linear function\n",
    "Now that you've got the hang of computing the jacobian matrix for a non-linear function via the aid of an example, try to compute the jacobian of a secondary gaussian function by carrying out steps similar to what has been shown above. The function is plotted below:\n",
    "<img src='./helpers/non_linear.png' alt=drawing width=500 height=600>\n",
    "Using the computed jacobian, optimise for the four parameters using gradient descent, where the parameters to be estimated are: \n",
    "\n",
    "$p_1$ = 2,  $p_2$ = 8,  $p_3$ = 4,  $p_4$ = 8. \n",
    "\n",
    "Do this for $x_{obs} = np.linspace(-20,30, num\\_obs)$,\n",
    "where $num\\_obs$ is 50.\n",
    "\n"
   ]
  },
  {
   "cell_type": "code",
   "execution_count": 12,
   "id": "9e5233ce",
   "metadata": {},
   "outputs": [
    {
     "data": {
      "text/plain": [
       "[<matplotlib.lines.Line2D at 0x7f454aff31d0>]"
      ]
     },
     "execution_count": 12,
     "metadata": {},
     "output_type": "execute_result"
    },
    {
     "data": {
      "image/png": "[encoded data removed]",
      "text/plain": [
       "<Figure size 432x288 with 1 Axes>"
      ]
     },
     "metadata": {
      "needs_background": "light"
     },
     "output_type": "display_data"
    }
   ],
   "source": [
    "from helpers.func import make_non_linear\n",
    "iter = 50\n",
    "p1 = 2\n",
    "p2 = 8\n",
    "p3 = 4\n",
    "p4 = 8\n",
    "k = [[p1],\n",
    "     [p2],\n",
    "     [p3],\n",
    "     [p4]]\n",
    "xobs = np.linspace(-20,30,iter)\n",
    "yobs = np.zeros_like(xobs)\n",
    "for i in range(iter):\n",
    "    yobs[i] = make_non_linear(xobs[i],p1,p2,p3,p4)\n",
    "# print(xobs)\n",
    "# print(yobs)\n",
    "plt.plot(xobs,yobs)"
   ]
  },
  {
   "cell_type": "code",
   "execution_count": 13,
   "id": "309d8a0e-4aa9-419b-8197-8c3e4447421b",
   "metadata": {},
   "outputs": [],
   "source": [
    "def residual(p1,p2,p3,p4,x,y):\n",
    "#     res = a * np.exp(-(x-m)**2/(2*s**2)) - y\n",
    "    res = make_non_linear(x,p1,p2,p3,p4) - y \n",
    "#     return make_gaussian(x,a,m,s) - y \n",
    "    return res.astype('float64')"
   ]
  },
  {
   "cell_type": "code",
   "execution_count": 14,
   "id": "acc55f55-f9ca-4b46-9e79-2ff11700d3ac",
   "metadata": {},
   "outputs": [
    {
     "name": "stdout",
     "output_type": "stream",
     "text": [
      "[[2.3316084 ]\n",
      " [8.65833857]\n",
      " [4.01128525]\n",
      " [7.86287874]]\n"
     ]
    }
   ],
   "source": [
    "#Define jacobians\n",
    "rK = np.zeros(iter).astype('float64')\n",
    "Jr = np.zeros((4,iter),dtype='float64')\n",
    "error = np.zeros(200).astype('float64')\n",
    "p1 = 2\n",
    "p2 = 10\n",
    "p3 = 5\n",
    "p4 = 5\n",
    "k = [[p1],\n",
    "    [p2],\n",
    "    [p3],\n",
    "    [p4]]\n",
    "for j in range(200):\n",
    "    p1 = k[0][0]\n",
    "    p2 = k[1][0]\n",
    "    p3 = k[2][0]\n",
    "    p4 = k[3][0]\n",
    "    rK = np.zeros(iter).astype('float64')\n",
    "    Jr = np.zeros((4,iter),dtype='float64')\n",
    "#     print(m)\n",
    "    for i in range(iter):\n",
    "#         print(xobs[i])\n",
    "#         Jr[0][i] = np.exp(-(xobs[i]-m)**2/(2*s**2))\n",
    "#         Jr[1][i] = ((a*(xobs[i]-m))/(s**2)) * np.exp(-(xobs[i]-m)**2/(2*(s**2)))\n",
    "#         Jr[2][i] = ((a*((xobs[i]-m)**2))/(s**3)) * np.exp(-(xobs[i]-m)**2/(2*(s**2)))\n",
    "        Jr[0][i] = math.exp(-xobs[i] / p2)\n",
    "        Jr[1][i] = (p1*xobs[i]/(p2**2)) * math.exp(-xobs[i] / p2)\n",
    "        Jr[2][i] = math.sin(xobs[i] / p4)\n",
    "        Jr[3][i] = (-p3*xobs[i]/(p4**2)) * math.cos(xobs[i] / p4)\n",
    "        rK[i] = residual(p1,p2,p3,p4,xobs[i],yobs[i])\n",
    "#     Jr = Jr.T\n",
    "    error[j] = np.linalg.norm(rK)\n",
    "    rK = np.array(rK)[np.newaxis]\n",
    "    rK = rK.T\n",
    "#     print(Jr)\n",
    "#     print(rK)\n",
    "#     print(rK.shape)\n",
    "#     print(Jr.shape)\n",
    "    Jf = np.matmul(Jr,rK)\n",
    "#     print(Jf)\n",
    "    alpha = 0.001\n",
    "    deltaK = -alpha*Jf\n",
    "#     print(deltaK)\n",
    "#     print(deltaK)\n",
    "    k = k + deltaK\n",
    "#     print(k)\n",
    "#     print(newK)\n",
    "print(k)"
   ]
  },
  {
   "cell_type": "code",
   "execution_count": 15,
   "id": "04f9acd3-05f3-48aa-87fa-3d455abbe8f5",
   "metadata": {},
   "outputs": [
    {
     "data": {
      "text/plain": [
       "<matplotlib.legend.Legend at 0x7f454afdeda0>"
      ]
     },
     "execution_count": 15,
     "metadata": {},
     "output_type": "execute_result"
    },
    {
     "data": {
      "image/png": "[encoded data removed]",
      "text/plain": [
       "<Figure size 432x288 with 1 Axes>"
      ]
     },
     "metadata": {
      "needs_background": "light"
     },
     "output_type": "display_data"
    }
   ],
   "source": [
    "xP = np.linspace(-20,30,iter)\n",
    "yP = np.zeros_like(xP)\n",
    "yF = np.zeros_like(xP)\n",
    "p1 = k[0][0]\n",
    "p2 = k[1][0]\n",
    "p3 = k[2][0]\n",
    "p4 = k[3][0]\n",
    "for i in range(iter):\n",
    "    yP[i] = make_non_linear(xP[i],p1,p2,p3,p4)\n",
    "# print(xP)\n",
    "# print(yP)\n",
    "plt.plot(xP,yP)\n",
    "p1 = 2\n",
    "p2 = 10\n",
    "p3 = 3\n",
    "p4 = 9\n",
    "for i in range(iter):\n",
    "    yF[i] = make_non_linear(xP[i],p1,p2,p3,p4)\n",
    "plt.plot(xP,yF)\n",
    "plt.plot(xobs,yobs)\n",
    "plt.legend(['Predicted','Initial','Actual'])"
   ]
  },
  {
   "cell_type": "code",
   "execution_count": 16,
   "id": "625368d1-08a6-4293-914c-6c516893b1ce",
   "metadata": {},
   "outputs": [
    {
     "data": {
      "text/plain": [
       "[<matplotlib.lines.Line2D at 0x7f454af514a8>]"
      ]
     },
     "execution_count": 16,
     "metadata": {},
     "output_type": "execute_result"
    },
    {
     "data": {
      "image/png": "[encoded data removed]",
      "text/plain": [
       "<Figure size 432x288 with 1 Axes>"
      ]
     },
     "metadata": {
      "needs_background": "light"
     },
     "output_type": "display_data"
    }
   ],
   "source": [
    "plotX = list(range(200))\n",
    "plotX = np.array(plotX)\n",
    "# print(plotX)\n",
    "plt.plot(plotX,error)"
   ]
  },
  {
   "cell_type": "markdown",
   "id": "ffc9c473",
   "metadata": {},
   "source": [
    "## 1.3: Different Optimizers\n",
    "\n",
    "Replace gradient descent with Gauss-Newton and Levenberg Marquardt algorithms and repeat question 1.1. \n",
    "\n",
    "To quickly recap, Gauss-Newton and Levenberg Marquardt are alternate update rules to the standard gradient descent. Gauss Newton updates work as:\n",
    "\n",
    "$$\\delta x = -(J^TJ)^{-1}J^Tf(x)$$\n",
    "\n",
    "Levenberg Marquardt lies somewhere between Gauss Newton and Gradient Descent algorithms by blending the two formulations. As a result, when at a steep cliff, LM takes small steps to avoid overshooting, and when at a gentle slope, LM takes bigger steps:\n",
    "\n",
    "\n",
    "$$\\delta x = -(J^TJ + \\lambda I)^{-1}J^Tf(x)$$"
   ]
  },
  {
   "cell_type": "markdown",
   "id": "690f428b",
   "metadata": {},
   "source": [
    "**Questions**\n",
    "   * 1. How does the choice of initial estimate and learning rate affect convergence? Observations and analysis from repeated runs with modified hyperparameters will suffice.\n",
    "   * 2. Do you notice any difference between the three optimizers? Why do you think that is? (If you are unable to see a clear trend, what would you expect in general based on what you know about them)"
   ]
  },
  {
   "cell_type": "code",
   "execution_count": null,
   "id": "9cbc5d5b",
   "metadata": {},
   "outputs": [],
   "source": []
  },
  {
   "cell_type": "markdown",
   "id": "4e044e01",
   "metadata": {},
   "source": [
    "# 2. Iterative Closest Point\n",
    "\n",
    "In this subsection, we will code the Iterative Closest Point algorithm to find the alignment between two point clouds without known correspondences. The point cloud that you will be using is the same as the one that you used in Assignment 1.\n",
    "\n",
    "## 2.1: Procrustes alignment\n",
    "\n",
    "1. Write a function that takes two point clouds as input wherein the corresponding points between the two point clouds are located at the same index and returns the transformation matrix between them.\n",
    "2. Use the bunny point cloud and perform the procrustes alignment between the two bunnies. Compute the absolute alignment error after aligning the two bunnies.\n",
    "3. Make sure your code is modular as we will use this function in the next sub-part.\n",
    "4. Prove mathematically why the Procrustes alignment gives the best aligning transform between point clouds with known correspondences.\n"
   ]
  },
  {
   "cell_type": "code",
   "execution_count": 28,
   "id": "621a65d1",
   "metadata": {},
   "outputs": [],
   "source": [
    "import open3d as o3d\n",
    "import copy"
   ]
  },
  {
   "cell_type": "code",
   "execution_count": 29,
   "id": "66325cc0",
   "metadata": {},
   "outputs": [
    {
     "data": {
      "text/plain": [
       "TriangleMesh with 1134 points and 2240 triangles."
      ]
     },
     "execution_count": 29,
     "metadata": {},
     "output_type": "execute_result"
    }
   ],
   "source": [
    "bunny = o3d.io.read_point_cloud(\"bunny.ply\")\n",
    "pts1 = np.asarray(bunny.points)\n",
    "Ri = np.array([[-0.5232657,-0.7992877,0.2955202],\n",
    "              [0.8163163,-0.5696766,-0.0953745],\n",
    "              [0.2445826,0.1913317,0.9505638]])\n",
    "ti = np.reshape(np.array([0.2,0,0]), (3,1))\n",
    "pts2 = (Ri @ pts1.T + ti).T\n",
    "\n",
    "\n",
    "bunny1 = o3d.geometry.PointCloud()\n",
    "bunny1.points = o3d.utility.Vector3dVector(pts1)\n",
    "bunny1.paint_uniform_color([1,0.8,0.4])\n",
    "\n",
    "bunny2 = o3d.geometry.PointCloud()\n",
    "bunny2.points = o3d.utility.Vector3dVector(pts2)\n",
    "bunny2.paint_uniform_color([0,0.8,0.4])\n",
    "\n",
    "mesh_frame1 = o3d.geometry.TriangleMesh.create_coordinate_frame(size=0.125, origin=[0, 0, 0])\n",
    "mesh_frame2 = o3d.geometry.TriangleMesh.create_coordinate_frame(size=0.225, origin=[0, 0, 0])\n",
    "\n",
    "Ti = np.zeros((4,4))\n",
    "Ti[:3,:3] = Ri\n",
    "Ti[3,3] = 1\n",
    "Ti[:3,3] = ti.T\n",
    "\n",
    "mesh_frame2.transform(Ti)"
   ]
  },
  {
   "cell_type": "code",
   "execution_count": 30,
   "id": "4593dd4c",
   "metadata": {},
   "outputs": [],
   "source": [
    "o3d.visualization.draw_geometries([bunny1,bunny2,mesh_frame1,mesh_frame2])"
   ]
  },
  {
   "cell_type": "code",
   "execution_count": 31,
   "id": "8da71036",
   "metadata": {},
   "outputs": [],
   "source": [
    "def procrustes(pts1,pts2):\n",
    "    com1 = np.mean(pts1,axis=0)\n",
    "    com2 = np.mean(pts2,axis=0)\n",
    "    centredpts1 = pts1-com1\n",
    "    centredpts2 = pts2-com2\n",
    "    A = centredpts1.T @ centredpts2\n",
    "    U,D,Vt = np.linalg.svd(A)\n",
    "    C = np.eye(3)\n",
    "    if np.linalg.det(U @ Vt) < 0:\n",
    "        C = np.array([[1,0,0][0,1,0][0,0,-1]])\n",
    "    R = U @ C @ Vt\n",
    "    t = com1 - R @ com2\n",
    "    return R,t"
   ]
  },
  {
   "cell_type": "code",
   "execution_count": 32,
   "id": "98f52390",
   "metadata": {},
   "outputs": [
    {
     "data": {
      "text/plain": [
       "PointCloud with 35947 points."
      ]
     },
     "execution_count": 32,
     "metadata": {},
     "output_type": "execute_result"
    }
   ],
   "source": [
    "Ro, to = procrustes(pts1,pts2)\n",
    "To = np.zeros((4,4))\n",
    "To[:3,:3] = Ro\n",
    "To[3,3] = 1\n",
    "To[:3,3] = to.T\n",
    "\n",
    "mesh_frame2.transform(To)\n",
    "bunny2.transform(To)"
   ]
  },
  {
   "cell_type": "code",
   "execution_count": 33,
   "id": "82338141",
   "metadata": {},
   "outputs": [],
   "source": [
    "o3d.visualization.draw_geometries([bunny1,bunny2,mesh_frame1,mesh_frame2])"
   ]
  },
  {
   "cell_type": "code",
   "execution_count": 34,
   "id": "59835224",
   "metadata": {},
   "outputs": [
    {
     "name": "stdout",
     "output_type": "stream",
     "text": [
      "1.3833830389628341e-09\n"
     ]
    }
   ],
   "source": [
    "pts1 = np.asarray(bunny1.points)\n",
    "pts2 = np.asarray(bunny2.points)\n",
    "absolute_alignment_error = np.mean(np.abs(pts1-pts2))\n",
    "print(absolute_alignment_error)"
   ]
  },
  {
   "cell_type": "markdown",
   "id": "005887ab",
   "metadata": {},
   "source": [
    "## 2.2: ICP alignment\n",
    "\n",
    "1. Write a function that takes two point clouds as input without known correspondences and perform the iterative closest point algorithm.\n",
    "2. Perform the ICP alignment between the two bunnies and plot their individual coordinate frames as done in class.\n",
    "3. Does ICP always give the correct alignment? Why or Why not?\n",
    "4. What are other variants of ICP and why are they helpful (you can look at point to plane ICP)?"
   ]
  },
  {
   "cell_type": "code",
   "execution_count": 35,
   "id": "29d40cd8",
   "metadata": {},
   "outputs": [
    {
     "data": {
      "text/plain": [
       "TriangleMesh with 1134 points and 2240 triangles."
      ]
     },
     "execution_count": 35,
     "metadata": {},
     "output_type": "execute_result"
    }
   ],
   "source": [
    "bunny = o3d.io.read_point_cloud(\"bunny.ply\")\n",
    "pts1 = np.asarray(bunny.points)\n",
    "# Ri = np.array([[-0.5232657,-0.7992877,0.2955202],\n",
    "#               [0.8163163,-0.5696766,-0.0953745],\n",
    "#               [0.2445826,0.1913317,0.9505638]])\n",
    "Ri = np.array([[1,0,0],\n",
    "              [0,0,-1],\n",
    "              [0,1,0]])\n",
    "ti = np.reshape(np.array([0.2,0,0]), (3,1))\n",
    "pts2 = (Ri @ pts1.T + ti).T\n",
    "\n",
    "\n",
    "bunny1 = o3d.geometry.PointCloud()\n",
    "bunny1.points = o3d.utility.Vector3dVector(pts1)\n",
    "bunny1.paint_uniform_color([1,0.8,0.4])\n",
    "\n",
    "bunny2 = o3d.geometry.PointCloud()\n",
    "bunny2.points = o3d.utility.Vector3dVector(pts2)\n",
    "bunny2.paint_uniform_color([0,0.8,0.4])\n",
    "\n",
    "mesh_frame1 = o3d.geometry.TriangleMesh.create_coordinate_frame(size=0.125, origin=[0, 0, 0])\n",
    "mesh_frame2 = o3d.geometry.TriangleMesh.create_coordinate_frame(size=0.225, origin=[0, 0, 0])\n",
    "\n",
    "Ti = np.zeros((4,4))\n",
    "Ti[:3,:3] = Ri\n",
    "Ti[3,3] = 1\n",
    "Ti[:3,3] = ti.T\n",
    "\n",
    "mesh_frame2.transform(Ti)"
   ]
  },
  {
   "cell_type": "code",
   "execution_count": 36,
   "id": "648d6142",
   "metadata": {},
   "outputs": [],
   "source": [
    "o3d.visualization.draw_geometries([bunny1,bunny2,mesh_frame1,mesh_frame2])"
   ]
  },
  {
   "cell_type": "code",
   "execution_count": 37,
   "id": "33b43c49",
   "metadata": {},
   "outputs": [],
   "source": [
    "def distance(x,y):\n",
    "    return np.sqrt(np.sum((x-y)**2, axis=1))"
   ]
  },
  {
   "cell_type": "code",
   "execution_count": 38,
   "id": "cfca7b03",
   "metadata": {},
   "outputs": [],
   "source": [
    "from sklearn.neighbors import KDTree\n",
    "tree = KDTree(pts1)"
   ]
  },
  {
   "cell_type": "code",
   "execution_count": 39,
   "id": "1c16f5d8",
   "metadata": {},
   "outputs": [],
   "source": [
    "#uses scikit rn\n",
    "def nearest_neighbours(pts1,pts2):\n",
    "    indxarray = np.zeros(pts2.shape[0])\n",
    "    for i in range(pts2.shape[0]):\n",
    "#         cmat = abs(pts1-pts2[i]).flatten()\n",
    "#         mx = np.max(cmat,axis=0)\n",
    "#         mn = np.min(cmat,axis=0)\n",
    "#         md = (mx+mn)/2\n",
    "#         include = np.min(pts1<md,axis=1)\n",
    "#         dist_to_pts1 = distance(pts2[i] ,pts1)\n",
    "#         indx = np.argmin(dist_to_pts1)\n",
    "        distance,indx = tree.query(np.reshape(pts2[i],(1,3)), 1)\n",
    "        indxarray[i] = indx\n",
    "    return indxarray"
   ]
  },
  {
   "cell_type": "code",
   "execution_count": 40,
   "id": "29f5a304",
   "metadata": {},
   "outputs": [],
   "source": [
    "def icp(pts1,pts2,iterations,tolerance):\n",
    "    absolute_alignment_error = np.mean(np.abs(pts1-pts2))\n",
    "    T = np.eye(4)\n",
    "    for i in range(iterations):\n",
    "        indxarray = nearest_neighbours(pts1,pts2).astype(int)\n",
    "        Ro,to = procrustes(pts1[indxarray],pts2)\n",
    "        \n",
    "        To = np.zeros((4,4))\n",
    "        To[:3,:3] = Ro\n",
    "        To[3,3] = 1\n",
    "        To[:3,3] = to.T\n",
    "\n",
    "        mesh_frame2.transform(To)\n",
    "        bunny2.transform(To)\n",
    "        pts1 = np.asarray(bunny1.points)\n",
    "        pts2 = np.asarray(bunny2.points)\n",
    "        \n",
    "#         o3d.visualization.draw_geometries([bunny1,bunny2,mesh_frame1,mesh_frame2])        \n",
    "        T = To@T\n",
    "    return T"
   ]
  },
  {
   "cell_type": "code",
   "execution_count": 41,
   "id": "5b952a84",
   "metadata": {},
   "outputs": [],
   "source": [
    "T = icp(pts1,pts2,5,5)"
   ]
  },
  {
   "cell_type": "code",
   "execution_count": 42,
   "id": "da850f91",
   "metadata": {},
   "outputs": [],
   "source": [
    "o3d.visualization.draw_geometries([bunny1,bunny2,mesh_frame1,mesh_frame2])"
   ]
  },
  {
   "cell_type": "code",
   "execution_count": null,
   "id": "488649df",
   "metadata": {},
   "outputs": [],
   "source": []
  }
 ],
 "metadata": {
  "kernelspec": {
   "display_name": "Python 3",
   "language": "python",
   "name": "python3"
  },
  "language_info": {
   "codemirror_mode": {
    "name": "ipython",
    "version": 3
   },
   "file_extension": ".py",
   "mimetype": "text/x-python",
   "name": "python",
   "nbconvert_exporter": "python",
   "pygments_lexer": "ipython3",
   "version": "3.6.9"
  }
 },
 "nbformat": 4,
 "nbformat_minor": 5
}
